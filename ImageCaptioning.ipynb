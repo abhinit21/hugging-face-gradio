{
 "cells": [
  {
   "cell_type": "markdown",
   "source": [
    "### Building an image captioning app "
   ],
   "metadata": {
    "collapsed": false
   },
   "id": "4ae7e2b34b740502"
  },
  {
   "cell_type": "code",
   "execution_count": null,
   "id": "initial_id",
   "metadata": {
    "collapsed": true
   },
   "outputs": [],
   "source": [
    "from transformers import AutoProcessor, AutoModelForSeq2SeqLM\n",
    "from transformers import pipeline\n",
    "\n",
    "processor = AutoProcessor.from_pretrained(\"Salesforce/blip-image-captioning-large\")\n",
    "model = AutoModelForSeq2SeqLM.from_pretrained(\"Salesforce/blip-image-captioning-large\")\n",
    "\n",
    "get_completion = pipeline(\"image-to-text\", model=model, processor=processor)"
   ]
  },
  {
   "cell_type": "code",
   "execution_count": null,
   "outputs": [],
   "source": [
    "import io\n",
    "import base64\n",
    "import gradio as gr\n",
    "\n",
    "def image_to_base64_str(pil_image):\n",
    "    byte_arr = io.BytesIO()\n",
    "    pil_image.save(byte_arr, format='PNG')\n",
    "    byte_arr = byte_arr.getvalue()\n",
    "    return str(base64.b64encode(byte_arr).decode('utf-8'))\n",
    "\n",
    "def caption(image):\n",
    "    base64_image = image_to_base64_str(image)\n",
    "    result = get_completion(base64_image)\n",
    "    return result[0]['generated_text']\n",
    "\n",
    "gr.close_all()\n",
    "demo = gr.Interface(\n",
    "    fn=caption,\n",
    "    inputs=[gr.Image(label=\"Upload image\", type=\"pil\")],\n",
    "    outputs=[gr.Textbox(label=\"Caption\")],\n",
    "    title=\"Image Captioning with BLIP\",\n",
    "    description=\"Caption any image using the BLIP model\",\n",
    "    allow_flagging=\"never\",\n",
    "    examples=[\"christmas_dog.jpeg\", \"bird_flight.jpeg\", \"cow.jpeg\"]\n",
    ")\n",
    "\n",
    "demo.launch()"
   ],
   "metadata": {
    "collapsed": false
   },
   "id": "156a30a1c3ec2b17"
  }
 ],
 "metadata": {
  "kernelspec": {
   "display_name": "Python 3",
   "language": "python",
   "name": "python3"
  },
  "language_info": {
   "codemirror_mode": {
    "name": "ipython",
    "version": 2
   },
   "file_extension": ".py",
   "mimetype": "text/x-python",
   "name": "python",
   "nbconvert_exporter": "python",
   "pygments_lexer": "ipython2",
   "version": "2.7.6"
  }
 },
 "nbformat": 4,
 "nbformat_minor": 5
}
