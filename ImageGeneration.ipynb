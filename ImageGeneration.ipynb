{
 "cells": [
  {
   "cell_type": "markdown",
   "source": [
    "### Building an image generation app "
   ],
   "metadata": {
    "collapsed": false
   },
   "id": "ede9239215ed21fd"
  },
  {
   "cell_type": "code",
   "execution_count": null,
   "id": "initial_id",
   "metadata": {
    "collapsed": true
   },
   "outputs": [],
   "source": [
    "from diffusers import DiffusionPipeline\n",
    "\n",
    "pipeline = DiffusionPipeline.from_pretrained(\"runwayml/stable-diffusion-v1-5\")\n",
    "\n",
    "def get_completion(prompt, parameters=None):\n",
    "    if parameters is not None:\n",
    "        return pipeline(prompt, **parameters).images[0]\n",
    "    return pipeline(prompt).images[0]"
   ]
  },
  {
   "cell_type": "markdown",
   "source": [
    "Using Gradio Interface"
   ],
   "metadata": {
    "collapsed": false
   },
   "id": "7747d0ed9db34797"
  },
  {
   "cell_type": "code",
   "execution_count": null,
   "outputs": [],
   "source": [
    "import io\n",
    "import base64\n",
    "import gradio as gr\n",
    "\n",
    "from PIL import Image\n",
    "\n",
    "def base64_to_pil(img_base64):\n",
    "    base64_decoded = base64.b64decode(img_base64)\n",
    "    byte_stream = io.BytesIO(base64_decoded)\n",
    "    pil_image = Image.open(byte_stream)\n",
    "    return pil_image\n",
    "\n",
    "def generate(prompt, negative_prompt, steps, guidance, width, height):\n",
    "    params = {\n",
    "        \"negative_prompt\": negative_prompt,\n",
    "        \"num_inference_steps\": steps,\n",
    "        \"guidance_scale\": guidance,\n",
    "        \"width\": width,\n",
    "        \"height\": height\n",
    "    }\n",
    "\n",
    "    output = get_completion(prompt, params)\n",
    "    pil_image = base64_to_pil(output)\n",
    "    return pil_image\n",
    "\n",
    "demo = gr.Interface(\n",
    "    fn=generate,\n",
    "    inputs=[\n",
    "        gr.Textbox(label=\"Your prompt\"),\n",
    "        gr.Textbox(label=\"Negative prompt\"),\n",
    "        gr.Slider(\n",
    "            label=\"Inference Steps\", minimum=1, maximum=100, value=25,\n",
    "            info=\"In how many steps will the denoiser denoise the image?\"\n",
    "        ),\n",
    "        gr.Slider(\n",
    "            label=\"Guidance Scale\", minimum=1, maximum=20, value=7,      \n",
    "            info=\"Controls how much the text prompt influences the result\"\n",
    "        ),\n",
    "        gr.Slider(label=\"Width\", minimum=64, maximum=512, step=64, value=512),\n",
    "        gr.Slider(label=\"Height\", minimum=64, maximum=512, step=64, value=512),\n",
    "    ],\n",
    "    outputs=[gr.Image(label=\"Result\")],\n",
    "    title=\"Image Generation with Stable Diffusion\",\n",
    "    description=\"Generate any image with Stable Diffusion\",\n",
    "    allow_flagging=\"never\"\n",
    ")\n",
    "\n",
    "demo.launch()"
   ],
   "metadata": {
    "collapsed": false
   },
   "id": "ec963e369b0b3c41"
  },
  {
   "cell_type": "markdown",
   "source": [
    "Using Gradio Blocks"
   ],
   "metadata": {
    "collapsed": false
   },
   "id": "33c80f783b8a7935"
  },
  {
   "cell_type": "code",
   "execution_count": null,
   "outputs": [],
   "source": [
    "with gr.Blocks() as demo:\n",
    "    \n",
    "    gr.Markdown(\"# Image Generation with Stable Diffusion\")\n",
    "    \n",
    "    with gr.Row():\n",
    "        with gr.Column(scale=4):\n",
    "            # Give prompt some real estate\n",
    "            prompt = gr.Textbox(label=\"Your prompt\") \n",
    "        with gr.Column(scale=1, min_width=50):\n",
    "            # Submit button side by side!\n",
    "            btn = gr.Button(\"Submit\") \n",
    "    \n",
    "    # Let's hide the advanced options!\n",
    "    with gr.Accordion(\"Advanced options\", open=False): \n",
    "        negative_prompt = gr.Textbox(label=\"Negative prompt\")\n",
    "        with gr.Row():\n",
    "            with gr.Column():\n",
    "                steps = gr.Slider(label=\"Inference Steps\", minimum=1, maximum=100, value=25,\n",
    "                                  info=\"In many steps will the denoiser denoise the image?\")\n",
    "                guidance = gr.Slider(label=\"Guidance Scale\", minimum=1, maximum=20, value=7,\n",
    "                                     info=\"Controls how much the text prompt influences the result\")\n",
    "            with gr.Column():\n",
    "                width = gr.Slider(label=\"Width\", minimum=64, maximum=512, step=64, value=512)\n",
    "                height = gr.Slider(label=\"Height\", minimum=64, maximum=512, step=64, value=512)\n",
    "    \n",
    "    # Move the output up too\n",
    "    output = gr.Image(label=\"Result\") \n",
    "\n",
    "    btn.click(fn=generate, inputs=[prompt,negative_prompt,steps,guidance,width,height], outputs=[output])\n",
    "\n",
    "gr.close_all()\n",
    "demo.launch()"
   ],
   "metadata": {
    "collapsed": false
   },
   "id": "8c5ac3eec0c49856"
  }
 ],
 "metadata": {
  "kernelspec": {
   "display_name": "Python 3",
   "language": "python",
   "name": "python3"
  },
  "language_info": {
   "codemirror_mode": {
    "name": "ipython",
    "version": 2
   },
   "file_extension": ".py",
   "mimetype": "text/x-python",
   "name": "python",
   "nbconvert_exporter": "python",
   "pygments_lexer": "ipython2",
   "version": "2.7.6"
  }
 },
 "nbformat": 4,
 "nbformat_minor": 5
}
